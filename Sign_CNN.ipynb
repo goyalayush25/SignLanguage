{
 "cells": [
  {
   "cell_type": "markdown",
   "id": "63b63b48",
   "metadata": {},
   "source": [
    "# Train CNN"
   ]
  },
  {
   "cell_type": "code",
   "execution_count": 1,
   "id": "3c87bbf9",
   "metadata": {},
   "outputs": [],
   "source": [
    "import tensorflow as tf\n",
    "from tensorflow import keras\n",
    "from keras.models import Sequential \n",
    "from keras.layers import Activation, Dense, Flatten, BatchNormalization, Conv2D, MaxPool2D, Dropout\n",
    "from tensorflow.keras.optimizers import Adam,SGD\n",
    "from keras.metrics import categorical_crossentropy\n",
    "from keras.preprocessing.image import ImageDataGenerator\n",
    "import itertools\n",
    "import random\n",
    "import warnings\n",
    "import numpy as np\n",
    "import cv2\n",
    "from keras.callbacks import ReduceLROnPlateau\n",
    "from keras.callbacks import ModelCheckpoint, EarlyStopping\n",
    "warnings.simplefilter(action='ignore', category=FutureWarning)"
   ]
  },
  {
   "cell_type": "code",
   "execution_count": 2,
   "id": "68b43c1e",
   "metadata": {},
   "outputs": [],
   "source": [
    "train_path = r'Images/data/train'\n",
    "test_path = r'Images/data/test'"
   ]
  },
  {
   "cell_type": "code",
   "execution_count": 3,
   "id": "cbc15247",
   "metadata": {},
   "outputs": [
    {
     "name": "stdout",
     "output_type": "stream",
     "text": [
      "Found 13500 images belonging to 6 classes.\n",
      "Found 4500 images belonging to 6 classes.\n"
     ]
    }
   ],
   "source": [
    "train_batches = ImageDataGenerator(preprocessing_function=tf.keras.applications.vgg16.preprocess_input).flow_from_directory(directory=train_path, target_size=(64,64), class_mode='categorical',batch_size=10, shuffle=True)\n",
    "test_batches = ImageDataGenerator(preprocessing_function=tf.keras.applications.vgg16.preprocess_input).flow_from_directory(directory=test_path, target_size=(64,64), class_mode='categorical',batch_size=10, shuffle=True)\n"
   ]
  },
  {
   "cell_type": "code",
   "execution_count": 4,
   "id": "ac5d269d",
   "metadata": {},
   "outputs": [],
   "source": [
    "imgs, labels = next(train_batches)"
   ]
  },
  {
   "cell_type": "code",
   "execution_count": 5,
   "id": "8b6f4950",
   "metadata": {},
   "outputs": [
    {
     "data": {
      "text/plain": [
       "array([[[[ 131.061     , -113.779     , -121.68      ],\n",
       "         [  79.061     , -103.779     , -112.68      ],\n",
       "         [  83.061     , -108.779     , -114.68      ],\n",
       "         ...,\n",
       "         [  80.061     , -110.779     , -104.68      ],\n",
       "         [  83.061     , -112.779     , -121.68      ],\n",
       "         [ 101.061     , -111.779     , -117.68      ]],\n",
       "\n",
       "        [[  77.061     , -111.779     , -111.68      ],\n",
       "         [ -31.939003  ,   17.221     ,   34.32      ],\n",
       "         [ -23.939003  ,    1.2210007 ,   12.32      ],\n",
       "         ...,\n",
       "         [ -25.939003  ,    4.2210007 ,   18.32      ],\n",
       "         [ -36.939003  ,  -20.779     ,   -0.6800003 ],\n",
       "         [  25.060997  ,  -32.779     ,  -22.68      ]],\n",
       "\n",
       "        [[  81.061     , -106.779     , -116.68      ],\n",
       "         [ -46.939003  ,  -16.779     ,  -20.68      ],\n",
       "         [  -9.939003  ,    5.2210007 ,    5.3199997 ],\n",
       "         ...,\n",
       "         [ -20.939003  ,   -7.7789993 ,    1.3199997 ],\n",
       "         [ -22.939003  ,   -6.7789993 ,   13.32      ],\n",
       "         [  58.060997  ,   -8.778999  ,   -2.6800003 ]],\n",
       "\n",
       "        ...,\n",
       "\n",
       "        [[  82.061     , -106.779     , -113.68      ],\n",
       "         [ -50.939003  ,  -39.779     ,  -40.68      ],\n",
       "         [ -49.939003  ,  -33.779     ,  -49.68      ],\n",
       "         ...,\n",
       "         [  20.060997  ,   21.221     ,   20.32      ],\n",
       "         [  17.060997  ,   20.221     ,   25.32      ],\n",
       "         [  84.061     ,   14.221001  ,    6.3199997 ]],\n",
       "\n",
       "        [[  79.061     , -107.779     , -120.68      ],\n",
       "         [ -34.939003  ,  -34.779     ,  -43.68      ],\n",
       "         [ -30.939003  ,  -31.779     ,  -50.68      ],\n",
       "         ...,\n",
       "         [  12.060997  ,   28.221     ,   30.32      ],\n",
       "         [  13.060997  ,   23.221     ,   31.32      ],\n",
       "         [  92.061     ,   22.221     ,   16.32      ]],\n",
       "\n",
       "        [[ 111.061     , -103.779     , -111.68      ],\n",
       "         [  20.060997  ,  -43.779     ,  -52.68      ],\n",
       "         [  30.060997  ,  -44.779     ,  -59.68      ],\n",
       "         ...,\n",
       "         [ 101.061     ,   22.221     ,   16.32      ],\n",
       "         [  90.061     ,   20.221     ,   14.32      ],\n",
       "         [ 135.061     ,   12.221001  ,    1.3199997 ]]],\n",
       "\n",
       "\n",
       "       [[[ 133.061     , -110.779     , -115.68      ],\n",
       "         [  79.061     , -105.779     , -106.68      ],\n",
       "         [  77.061     , -109.779     , -109.68      ],\n",
       "         ...,\n",
       "         [  85.061     , -111.779     , -110.68      ],\n",
       "         [  97.061     , -104.779     , -112.68      ],\n",
       "         [ 109.061     , -109.779     , -122.68      ]],\n",
       "\n",
       "        [[  84.061     , -109.779     , -112.68      ],\n",
       "         [  15.060997  ,   48.221     ,   52.32      ],\n",
       "         [  15.060997  ,   45.221     ,   57.32      ],\n",
       "         ...,\n",
       "         [ -20.939003  ,    2.2210007 ,   25.32      ],\n",
       "         [ -11.939003  ,   -5.7789993 ,   24.32      ],\n",
       "         [  64.061     ,  -12.778999  ,   -0.6800003 ]],\n",
       "\n",
       "        [[  84.061     , -104.779     , -111.68      ],\n",
       "         [  39.060997  ,   62.221     ,   65.32      ],\n",
       "         [  63.060997  ,   61.221     ,   58.32      ],\n",
       "         ...,\n",
       "         [ -52.939003  ,  -23.779     ,    4.3199997 ],\n",
       "         [ -47.939003  ,  -29.779     ,    8.32      ],\n",
       "         [  30.060997  ,  -21.779     ,   -7.6800003 ]],\n",
       "\n",
       "        ...,\n",
       "\n",
       "        [[  85.061     , -104.779     , -118.68      ],\n",
       "         [  74.061     ,   94.221     ,   72.32      ],\n",
       "         [  85.061     ,   94.221     ,   63.32      ],\n",
       "         ...,\n",
       "         [  87.061     ,   72.221     ,   65.32      ],\n",
       "         [  71.061     ,   72.221     ,   71.32      ],\n",
       "         [ 151.061     ,   66.221     ,   59.32      ]],\n",
       "\n",
       "        [[  82.061     , -108.779     , -120.68      ],\n",
       "         [  97.061     ,   92.221     ,   74.32      ],\n",
       "         [  93.061     ,   90.221     ,   66.32      ],\n",
       "         ...,\n",
       "         [  69.061     ,   70.221     ,   69.32      ],\n",
       "         [  72.061     ,   71.221     ,   76.32      ],\n",
       "         [ 145.061     ,   61.221     ,   57.32      ]],\n",
       "\n",
       "        [[ 104.061     , -108.779     , -121.68      ],\n",
       "         [ 151.061     ,   83.221     ,   64.32      ],\n",
       "         [ 151.061     ,   85.221     ,   61.32      ],\n",
       "         ...,\n",
       "         [ 145.061     ,   60.221     ,   53.32      ],\n",
       "         [ 145.061     ,   62.221     ,   56.32      ],\n",
       "         [ 151.061     ,   57.221     ,   47.32      ]]],\n",
       "\n",
       "\n",
       "       [[[ 120.061     , -116.779     , -118.68      ],\n",
       "         [  76.061     , -102.779     , -108.68      ],\n",
       "         [  72.061     , -109.779     , -107.68      ],\n",
       "         ...,\n",
       "         [  82.061     , -111.779     , -104.68      ],\n",
       "         [  83.061     , -107.779     , -107.68      ],\n",
       "         [ 105.061     , -111.779     , -111.68      ]],\n",
       "\n",
       "        [[  81.061     , -107.779     , -114.68      ],\n",
       "         [ -30.939003  ,   11.221001  ,   25.32      ],\n",
       "         [ -32.939003  ,   18.221     ,   41.32      ],\n",
       "         ...,\n",
       "         [ -73.939     ,  -41.779     ,  -34.68      ],\n",
       "         [  -9.939003  ,    6.2210007 ,    4.3199997 ],\n",
       "         [  54.060997  ,   -2.7789993 ,   -8.68      ]],\n",
       "\n",
       "        [[  66.061     , -110.779     , -112.68      ],\n",
       "         [ -51.939003  ,   -0.7789993 ,   22.32      ],\n",
       "         [ -35.939003  ,  -12.778999  ,   -1.6800003 ],\n",
       "         ...,\n",
       "         [ -14.939003  ,    5.2210007 ,    7.3199997 ],\n",
       "         [  -1.939003  ,   -2.7789993 ,   -5.6800003 ],\n",
       "         [  72.061     ,   -7.7789993 ,  -15.68      ]],\n",
       "\n",
       "        ...,\n",
       "\n",
       "        [[  82.061     , -112.779     , -111.68      ],\n",
       "         [ -13.939003  ,   -2.7789993 ,   12.32      ],\n",
       "         [ -26.939003  ,  -13.778999  ,   -4.6800003 ],\n",
       "         ...,\n",
       "         [  72.061     ,   62.221     ,   63.32      ],\n",
       "         [  65.061     ,   70.221     ,   70.32      ],\n",
       "         [ 151.061     ,   64.221     ,   55.32      ]],\n",
       "\n",
       "        [[  84.061     , -106.779     , -114.68      ],\n",
       "         [ -13.939003  ,   -9.778999  ,    9.32      ],\n",
       "         [ -14.939003  ,   -8.778999  ,    5.3199997 ],\n",
       "         ...,\n",
       "         [  64.061     ,   62.221     ,   63.32      ],\n",
       "         [  70.061     ,   70.221     ,   71.32      ],\n",
       "         [ 140.061     ,   65.221     ,   52.32      ]],\n",
       "\n",
       "        [[ 102.061     , -110.779     , -116.68      ],\n",
       "         [  52.060997  ,  -15.778999  ,   -3.6800003 ],\n",
       "         [  61.060997  ,  -21.779     ,  -11.68      ],\n",
       "         ...,\n",
       "         [ 131.061     ,   51.221     ,   49.32      ],\n",
       "         [ 137.061     ,   54.221     ,   54.32      ],\n",
       "         [ 151.061     ,   50.221     ,   43.32      ]]],\n",
       "\n",
       "\n",
       "       ...,\n",
       "\n",
       "\n",
       "       [[[ 131.061     , -111.779     , -119.68      ],\n",
       "         [  78.061     , -111.779     , -115.68      ],\n",
       "         [  81.061     , -107.779     , -114.68      ],\n",
       "         ...,\n",
       "         [  71.061     , -114.779     ,  -99.68      ],\n",
       "         [  75.061     , -109.779     , -116.68      ],\n",
       "         [ 101.061     , -109.779     , -105.68      ]],\n",
       "\n",
       "        [[  85.061     , -106.779     , -114.68      ],\n",
       "         [  13.060997  ,   52.221     ,   45.32      ],\n",
       "         [  27.060997  ,   45.221     ,   47.32      ],\n",
       "         ...,\n",
       "         [ -60.939003  ,  -13.778999  ,    8.32      ],\n",
       "         [ -41.939003  ,  -11.778999  ,   20.32      ],\n",
       "         [  25.060997  ,  -24.779     ,    2.3199997 ]],\n",
       "\n",
       "        [[  88.061     , -107.779     , -110.68      ],\n",
       "         [   9.060997  ,   26.221     ,   20.32      ],\n",
       "         [  16.060997  ,   13.221001  ,   16.32      ],\n",
       "         ...,\n",
       "         [ -83.939     ,  -54.779     ,   -8.68      ],\n",
       "         [ -86.939     ,  -67.779     ,  -25.68      ],\n",
       "         [   8.060997  ,  -64.779     ,  -40.68      ]],\n",
       "\n",
       "        ...,\n",
       "\n",
       "        [[  85.061     , -106.779     , -114.68      ],\n",
       "         [ -80.939     ,  -65.779     ,  -61.68      ],\n",
       "         [ -36.939003  ,  -54.779     ,  -60.68      ],\n",
       "         ...,\n",
       "         [  90.061     ,   78.221     ,   85.32      ],\n",
       "         [  80.061     ,   86.221     ,   82.32      ],\n",
       "         [ 151.061     ,   72.221     ,   78.32      ]],\n",
       "\n",
       "        [[  88.061     , -110.779     , -118.68      ],\n",
       "         [ -52.939003  ,  -68.779     ,  -59.68      ],\n",
       "         [ -44.939003  ,  -67.779     ,  -58.68      ],\n",
       "         ...,\n",
       "         [  89.061     ,   85.221     ,   92.32      ],\n",
       "         [  91.061     ,   92.221     ,   91.32      ],\n",
       "         [ 151.061     ,   76.221     ,   80.32      ]],\n",
       "\n",
       "        [[ 105.061     , -109.779     , -115.68      ],\n",
       "         [ -10.939003  ,  -84.779     ,  -77.68      ],\n",
       "         [  -2.939003  ,  -86.779     ,  -76.68      ],\n",
       "         ...,\n",
       "         [ 151.061     ,   79.221     ,   73.32      ],\n",
       "         [ 151.061     ,   84.221     ,   72.32      ],\n",
       "         [ 151.061     ,   73.221     ,   67.32      ]]],\n",
       "\n",
       "\n",
       "       [[[ 129.061     , -116.779     , -120.68      ],\n",
       "         [  82.061     , -107.779     , -117.68      ],\n",
       "         [  82.061     , -106.779     , -114.68      ],\n",
       "         ...,\n",
       "         [  77.061     , -110.779     , -104.68      ],\n",
       "         [  83.061     , -112.779     , -121.68      ],\n",
       "         [ 102.061     , -113.779     , -117.68      ]],\n",
       "\n",
       "        [[  73.061     , -105.779     , -111.68      ],\n",
       "         [ -32.939003  ,   14.221001  ,   31.32      ],\n",
       "         [ -29.939003  ,   -8.778999  ,   13.32      ],\n",
       "         ...,\n",
       "         [ -35.939003  ,   -5.7789993 ,    8.32      ],\n",
       "         [ -37.939003  ,  -26.779     ,   -5.6800003 ],\n",
       "         [  14.060997  ,  -46.779     ,  -35.68      ]],\n",
       "\n",
       "        [[  85.061     , -109.779     , -116.68      ],\n",
       "         [ -34.939003  ,  -19.779     ,  -19.68      ],\n",
       "         [  -6.939003  ,    7.2210007 ,   -2.6800003 ],\n",
       "         ...,\n",
       "         [ -21.939003  ,   -8.778999  ,   -1.6800003 ],\n",
       "         [ -18.939003  ,   -7.7789993 ,   13.32      ],\n",
       "         [  57.060997  ,   -9.778999  ,   -3.6800003 ]],\n",
       "\n",
       "        ...,\n",
       "\n",
       "        [[  79.061     , -106.779     , -116.68      ],\n",
       "         [ -61.939003  ,  -42.779     ,  -44.68      ],\n",
       "         [ -48.939003  ,  -34.779     ,  -45.68      ],\n",
       "         ...,\n",
       "         [   1.060997  ,   24.221     ,   23.32      ],\n",
       "         [   7.060997  ,   23.221     ,   21.32      ],\n",
       "         [  77.061     ,   14.221001  ,   11.32      ]],\n",
       "\n",
       "        [[  83.061     , -105.779     , -118.68      ],\n",
       "         [ -39.939003  ,  -42.779     ,  -49.68      ],\n",
       "         [ -45.939003  ,  -37.779     ,  -53.68      ],\n",
       "         ...,\n",
       "         [  18.060997  ,   18.221     ,   27.32      ],\n",
       "         [  23.060997  ,   18.221     ,   24.32      ],\n",
       "         [  86.061     ,   15.221001  ,   13.32      ]],\n",
       "\n",
       "        [[ 112.061     , -105.779     , -110.68      ],\n",
       "         [  20.060997  ,  -43.779     ,  -52.68      ],\n",
       "         [  34.060997  ,  -43.779     ,  -58.68      ],\n",
       "         ...,\n",
       "         [  83.061     ,   20.221     ,   13.32      ],\n",
       "         [  83.061     ,   22.221     ,   14.32      ],\n",
       "         [ 132.061     ,   10.221001  ,    1.3199997 ]]],\n",
       "\n",
       "\n",
       "       [[[ 121.061     , -116.779     , -123.68      ],\n",
       "         [  75.061     , -109.779     , -112.68      ],\n",
       "         [  64.061     , -110.779     , -112.68      ],\n",
       "         ...,\n",
       "         [  82.061     , -112.779     , -111.68      ],\n",
       "         [  74.061     , -109.779     , -114.68      ],\n",
       "         [ 107.061     , -104.779     , -113.68      ]],\n",
       "\n",
       "        [[  68.061     , -109.779     , -109.68      ],\n",
       "         [ -40.939003  ,    0.22100067,   24.32      ],\n",
       "         [ -24.939003  ,    7.2210007 ,   21.32      ],\n",
       "         ...,\n",
       "         [ -91.939     ,  -49.779     ,  -41.68      ],\n",
       "         [ -30.939003  ,  -16.779     ,   -2.6800003 ],\n",
       "         [  42.060997  ,  -17.779     ,  -16.68      ]],\n",
       "\n",
       "        [[  75.061     , -108.779     , -106.68      ],\n",
       "         [ -49.939003  ,    6.2210007 ,    2.3199997 ],\n",
       "         [ -46.939003  ,  -18.779     ,  -16.68      ],\n",
       "         ...,\n",
       "         [ -15.939003  ,    0.22100067,   -2.6800003 ],\n",
       "         [ -22.939003  ,  -13.778999  ,  -14.68      ],\n",
       "         [  60.060997  ,  -22.779     ,  -28.68      ]],\n",
       "\n",
       "        ...,\n",
       "\n",
       "        [[  85.061     , -106.779     , -120.68      ],\n",
       "         [  90.061     ,  110.221     ,   96.32      ],\n",
       "         [  97.061     ,  107.221     ,   86.32      ],\n",
       "         ...,\n",
       "         [  63.060997  ,   52.221     ,   55.32      ],\n",
       "         [  48.060997  ,   54.221     ,   60.32      ],\n",
       "         [ 127.061     ,   47.221     ,   45.32      ]],\n",
       "\n",
       "        [[  87.061     , -102.779     , -116.68      ],\n",
       "         [ 109.061     ,  111.221     ,   96.32      ],\n",
       "         [ 112.061     ,  106.221     ,   84.32      ],\n",
       "         ...,\n",
       "         [  44.060997  ,   49.221     ,   49.32      ],\n",
       "         [  52.060997  ,   55.221     ,   61.32      ],\n",
       "         [ 132.061     ,   52.221     ,   50.32      ]],\n",
       "\n",
       "        [[ 103.061     , -113.779     , -121.68      ],\n",
       "         [ 151.061     ,   98.221     ,   85.32      ],\n",
       "         [ 151.061     ,  102.221     ,   85.32      ],\n",
       "         ...,\n",
       "         [ 127.061     ,   43.221     ,   33.32      ],\n",
       "         [ 128.061     ,   47.221     ,   41.32      ],\n",
       "         [ 151.061     ,   43.221     ,   30.32      ]]]], dtype=float32)"
      ]
     },
     "execution_count": 5,
     "metadata": {},
     "output_type": "execute_result"
    }
   ],
   "source": [
    "imgs"
   ]
  },
  {
   "cell_type": "code",
   "execution_count": 6,
   "id": "c8cba9d2",
   "metadata": {},
   "outputs": [
    {
     "data": {
      "text/plain": [
       "array([[1., 0., 0., 0., 0., 0.],\n",
       "       [0., 0., 0., 0., 1., 0.],\n",
       "       [0., 0., 0., 1., 0., 0.],\n",
       "       [0., 0., 0., 0., 1., 0.],\n",
       "       [0., 0., 0., 1., 0., 0.],\n",
       "       [0., 1., 0., 0., 0., 0.],\n",
       "       [0., 1., 0., 0., 0., 0.],\n",
       "       [0., 0., 0., 0., 1., 0.],\n",
       "       [0., 1., 0., 0., 0., 0.],\n",
       "       [0., 0., 1., 0., 0., 0.]], dtype=float32)"
      ]
     },
     "execution_count": 6,
     "metadata": {},
     "output_type": "execute_result"
    }
   ],
   "source": [
    "labels"
   ]
  },
  {
   "cell_type": "code",
   "execution_count": 7,
   "id": "1a4f6ef6",
   "metadata": {},
   "outputs": [],
   "source": [
    "import matplotlib.pyplot as plt\n",
    "def plotImages(images_arr):\n",
    "    fig, axes = plt.subplots(1, 10, figsize=(30,20))\n",
    "    axes = axes.flatten()\n",
    "    for img, ax in zip( images_arr, axes):\n",
    "        img = cv2.cvtColor(img, cv2.COLOR_BGR2RGB)\n",
    "        ax.imshow(img)\n",
    "        ax.axis('off')\n",
    "    plt.tight_layout()\n",
    "    plt.show()"
   ]
  },
  {
   "cell_type": "code",
   "execution_count": 8,
   "id": "661e32bd",
   "metadata": {},
   "outputs": [
    {
     "name": "stderr",
     "output_type": "stream",
     "text": [
      "Clipping input data to the valid range for imshow with RGB data ([0..1] for floats or [0..255] for integers).\n",
      "Clipping input data to the valid range for imshow with RGB data ([0..1] for floats or [0..255] for integers).\n",
      "Clipping input data to the valid range for imshow with RGB data ([0..1] for floats or [0..255] for integers).\n",
      "Clipping input data to the valid range for imshow with RGB data ([0..1] for floats or [0..255] for integers).\n",
      "Clipping input data to the valid range for imshow with RGB data ([0..1] for floats or [0..255] for integers).\n",
      "Clipping input data to the valid range for imshow with RGB data ([0..1] for floats or [0..255] for integers).\n",
      "Clipping input data to the valid range for imshow with RGB data ([0..1] for floats or [0..255] for integers).\n",
      "Clipping input data to the valid range for imshow with RGB data ([0..1] for floats or [0..255] for integers).\n",
      "Clipping input data to the valid range for imshow with RGB data ([0..1] for floats or [0..255] for integers).\n",
      "Clipping input data to the valid range for imshow with RGB data ([0..1] for floats or [0..255] for integers).\n"
     ]
    },
    {
     "data": {
      "image/png": "[encoded data removed]",
      "text/plain": [
       "<Figure size 2160x1440 with 10 Axes>"
      ]
     },
     "metadata": {
      "needs_background": "light"
     },
     "output_type": "display_data"
    },
    {
     "name": "stdout",
     "output_type": "stream",
     "text": [
      "(10, 64, 64, 3)\n",
      "[[1. 0. 0. 0. 0. 0.]\n",
      " [0. 0. 0. 0. 1. 0.]\n",
      " [0. 0. 0. 1. 0. 0.]\n",
      " [0. 0. 0. 0. 1. 0.]\n",
      " [0. 0. 0. 1. 0. 0.]\n",
      " [0. 1. 0. 0. 0. 0.]\n",
      " [0. 1. 0. 0. 0. 0.]\n",
      " [0. 0. 0. 0. 1. 0.]\n",
      " [0. 1. 0. 0. 0. 0.]\n",
      " [0. 0. 1. 0. 0. 0.]]\n"
     ]
    }
   ],
   "source": [
    "plotImages(imgs)\n",
    "print(imgs.shape)\n",
    "print(labels)"
   ]
  },
  {
   "cell_type": "code",
   "execution_count": 9,
   "id": "a79176cd",
   "metadata": {},
   "outputs": [],
   "source": [
    "model = Sequential()\n",
    "\n",
    "model.add(Conv2D(filters=32, kernel_size=(3, 3), activation='relu', input_shape=(64,64,3)))\n",
    "model.add(MaxPool2D(pool_size=(2, 2), strides=2))\n",
    "\n",
    "model.add(Conv2D(filters=64, kernel_size=(3, 3), activation='relu', padding = 'same'))\n",
    "model.add(MaxPool2D(pool_size=(2, 2), strides=2))\n",
    "\n",
    "model.add(Conv2D(filters=128, kernel_size=(3, 3), activation='relu', padding = 'valid'))\n",
    "model.add(MaxPool2D(pool_size=(2, 2), strides=2))\n",
    "\n",
    "model.add(Flatten()) #necessary to convert data in one dimensional\n",
    "\n",
    "model.add(Dense(64,activation =\"relu\"))\n",
    "model.add(Dense(128,activation =\"relu\"))\n",
    "model.add(Dropout(0.2)) #Used to avoid overfitting problem. Sets weight of 20% neurons as 0 so that they cant influence weights of other neurons\n",
    "model.add(Dense(128,activation =\"relu\"))\n",
    "model.add(Dropout(0.3))#Dropout deactivates some proportion of neurons in layer\n",
    "model.add(Dense(6,activation =\"softmax\"))"
   ]
  },
  {
   "cell_type": "code",
   "execution_count": 10,
   "id": "cf9a4872",
   "metadata": {},
   "outputs": [],
   "source": [
    "model.compile(optimizer=Adam(learning_rate=0.001), loss='categorical_crossentropy', metrics=['accuracy'])\n",
    "reduce_lr = ReduceLROnPlateau(monitor='val_loss', factor=0.2, patience=1, min_lr=0.0001) #Reduce learning rate when a metric has stopped improving.\n",
    "early_stop = EarlyStopping(monitor='val_loss', min_delta=0, patience=2, verbose=0, mode='auto')#Stop training when a monitored metric has stopped improving.\n",
    "\n",
    "\n",
    "model.compile(optimizer=SGD(learning_rate=0.001), loss='categorical_crossentropy', metrics=['accuracy'])\n",
    "reduce_lr = ReduceLROnPlateau(monitor='val_loss', factor=0.2, patience=1, min_lr=0.0005)\n",
    "early_stop = EarlyStopping(monitor='val_loss', min_delta=0, patience=2, verbose=0, mode='auto')"
   ]
  },
  {
   "cell_type": "code",
   "execution_count": 29,
   "id": "6066d07c",
   "metadata": {},
   "outputs": [
    {
     "name": "stdout",
     "output_type": "stream",
     "text": [
      "Epoch 1/10\n",
      "1350/1350 [==============================] - 78s 57ms/step - loss: 0.0107 - accuracy: 0.9972 - val_loss: 0.0071 - val_accuracy: 0.9978 - lr: 5.0000e-04\n",
      "Epoch 2/10\n",
      "1350/1350 [==============================] - 80s 59ms/step - loss: 0.0121 - accuracy: 0.9965 - val_loss: 0.0072 - val_accuracy: 0.9980 - lr: 5.0000e-04\n",
      "Epoch 3/10\n",
      "1350/1350 [==============================] - 83s 61ms/step - loss: 0.0089 - accuracy: 0.9976 - val_loss: 0.0067 - val_accuracy: 0.9978 - lr: 5.0000e-04\n",
      "Epoch 4/10\n",
      "1350/1350 [==============================] - 98s 72ms/step - loss: 0.0097 - accuracy: 0.9973 - val_loss: 0.0057 - val_accuracy: 0.9984 - lr: 5.0000e-04\n",
      "Epoch 5/10\n",
      "1350/1350 [==============================] - 97s 72ms/step - loss: 0.0088 - accuracy: 0.9972 - val_loss: 0.0053 - val_accuracy: 0.9982 - lr: 5.0000e-04\n",
      "Epoch 6/10\n",
      "1350/1350 [==============================] - 102s 75ms/step - loss: 0.0070 - accuracy: 0.9978 - val_loss: 0.0062 - val_accuracy: 0.9978 - lr: 5.0000e-04\n",
      "Epoch 7/10\n",
      "1350/1350 [==============================] - 104s 77ms/step - loss: 0.0072 - accuracy: 0.9980 - val_loss: 0.0050 - val_accuracy: 0.9982 - lr: 5.0000e-04\n",
      "Epoch 8/10\n",
      "1350/1350 [==============================] - 98s 72ms/step - loss: 0.0082 - accuracy: 0.9976 - val_loss: 0.0053 - val_accuracy: 0.9984 - lr: 5.0000e-04\n",
      "Epoch 9/10\n",
      "1350/1350 [==============================] - 93s 69ms/step - loss: 0.0082 - accuracy: 0.9974 - val_loss: 0.0055 - val_accuracy: 0.9980 - lr: 5.0000e-04\n",
      "loss of 0.0017856340855360031; accuracy of 100.0%\n"
     ]
    }
   ],
   "source": [
    "history2 = model.fit(train_batches, epochs=10, callbacks=[reduce_lr, early_stop],  validation_data = test_batches)\n",
    "imgs, labels = next(train_batches)\n",
    "\n",
    "imgs, labels = next(test_batches)\n",
    "scores = model.evaluate(imgs, labels, verbose=0)\n",
    "print(f'{model.metrics_names[0]} of {scores[0]}; {model.metrics_names[1]} of {scores[1]*100}%')"
   ]
  },
  {
   "cell_type": "code",
   "execution_count": 30,
   "id": "cf4cd3ff",
   "metadata": {},
   "outputs": [],
   "source": [
    "model.save('model_sign1.h5')"
   ]
  },
  {
   "cell_type": "code",
   "execution_count": 31,
   "id": "c9bf65af",
   "metadata": {},
   "outputs": [
    {
     "name": "stdout",
     "output_type": "stream",
     "text": [
      "{'loss': [0.010723160579800606, 0.012088638730347157, 0.008872092701494694, 0.009687843732535839, 0.008774146437644958, 0.007026970852166414, 0.007160291541367769, 0.008172943256795406, 0.00823984295129776], 'accuracy': [0.9971851706504822, 0.9965184926986694, 0.9976296424865723, 0.9973333477973938, 0.9971851706504822, 0.9977777600288391, 0.9980000257492065, 0.9976296424865723, 0.9974074363708496], 'val_loss': [0.007077151443809271, 0.0071897199377417564, 0.006657757330685854, 0.005668682046234608, 0.0052511733956635, 0.00622899504378438, 0.004958163481205702, 0.005336224567145109, 0.005542318802326918], 'val_accuracy': [0.9977777600288391, 0.9980000257492065, 0.9977777600288391, 0.9984444379806519, 0.9982222318649292, 0.9977777600288391, 0.9982222318649292, 0.9984444379806519, 0.9980000257492065], 'lr': [0.0005, 0.0005, 0.0005, 0.0005, 0.0005, 0.0005, 0.0005, 0.0005, 0.0005]}\n"
     ]
    }
   ],
   "source": [
    "print(history2.history)"
   ]
  },
  {
   "cell_type": "code",
   "execution_count": 32,
   "id": "59f0722b",
   "metadata": {},
   "outputs": [],
   "source": [
    "imgs, labels = next(test_batches)"
   ]
  },
  {
   "cell_type": "code",
   "execution_count": 33,
   "id": "449e3c1d",
   "metadata": {},
   "outputs": [],
   "source": [
    "model = keras.models.load_model(r\"model_sign1.h5\")"
   ]
  },
  {
   "cell_type": "code",
   "execution_count": 34,
   "id": "da3b2f72",
   "metadata": {},
   "outputs": [
    {
     "name": "stdout",
     "output_type": "stream",
     "text": [
      "loss of 1.858300129242707e-05; accuracy of 100.0%\n"
     ]
    }
   ],
   "source": [
    "scores = model.evaluate(imgs, labels, verbose=0)\n",
    "print(f'{model.metrics_names[0]} of {scores[0]}; {model.metrics_names[1]} of {scores[1]*100}%')"
   ]
  },
  {
   "cell_type": "code",
   "execution_count": 35,
   "id": "a44059ef",
   "metadata": {},
   "outputs": [
    {
     "name": "stdout",
     "output_type": "stream",
     "text": [
      "Model: \"sequential\"\n",
      "_________________________________________________________________\n",
      " Layer (type)                Output Shape              Param #   \n",
      "=================================================================\n",
      " conv2d (Conv2D)             (None, 62, 62, 32)        896       \n",
      "                                                                 \n",
      " max_pooling2d (MaxPooling2D  (None, 31, 31, 32)       0         \n",
      " )                                                               \n",
      "                                                                 \n",
      " conv2d_1 (Conv2D)           (None, 31, 31, 64)        18496     \n",
      "                                                                 \n",
      " max_pooling2d_1 (MaxPooling  (None, 15, 15, 64)       0         \n",
      " 2D)                                                             \n",
      "                                                                 \n",
      " conv2d_2 (Conv2D)           (None, 13, 13, 128)       73856     \n",
      "                                                                 \n",
      " max_pooling2d_2 (MaxPooling  (None, 6, 6, 128)        0         \n",
      " 2D)                                                             \n",
      "                                                                 \n",
      " flatten (Flatten)           (None, 4608)              0         \n",
      "                                                                 \n",
      " dense (Dense)               (None, 64)                294976    \n",
      "                                                                 \n",
      " dense_1 (Dense)             (None, 128)               8320      \n",
      "                                                                 \n",
      " dropout (Dropout)           (None, 128)               0         \n",
      "                                                                 \n",
      " dense_2 (Dense)             (None, 128)               16512     \n",
      "                                                                 \n",
      " dropout_1 (Dropout)         (None, 128)               0         \n",
      "                                                                 \n",
      " dense_3 (Dense)             (None, 6)                 774       \n",
      "                                                                 \n",
      "=================================================================\n",
      "Total params: 413,830\n",
      "Trainable params: 413,830\n",
      "Non-trainable params: 0\n",
      "_________________________________________________________________\n"
     ]
    },
    {
     "data": {
      "text/plain": [
       "['loss', 'accuracy']"
      ]
     },
     "execution_count": 35,
     "metadata": {},
     "output_type": "execute_result"
    }
   ],
   "source": [
    "model.summary()\n",
    "\n",
    "scores #[loss, accuracy] on test data...\n",
    "model.metrics_names"
   ]
  },
  {
   "cell_type": "code",
   "execution_count": 36,
   "id": "b9432b70",
   "metadata": {},
   "outputs": [],
   "source": [
    "word_dict = {0:'A',1:'B',2:'C',3:'D',4:'nothing',5:'space'}"
   ]
  },
  {
   "cell_type": "code",
   "execution_count": 37,
   "id": "686e34cf",
   "metadata": {},
   "outputs": [],
   "source": [
    "predictions = model.predict(imgs, verbose=0)"
   ]
  },
  {
   "cell_type": "code",
   "execution_count": 38,
   "id": "5bf44e33",
   "metadata": {},
   "outputs": [
    {
     "data": {
      "text/plain": [
       "array([[1.58505773e-15, 7.42999967e-11, 4.64337499e-13, 1.00000000e+00,\n",
       "        8.99202104e-17, 5.58868244e-18],\n",
       "       [2.10277854e-11, 1.00000000e+00, 3.87792363e-17, 5.01098656e-16,\n",
       "        2.61657520e-19, 2.12141342e-23],\n",
       "       [2.43660804e-13, 7.76993492e-09, 1.41671619e-10, 1.00000000e+00,\n",
       "        1.46344762e-14, 2.25071799e-14],\n",
       "       [3.08088976e-13, 8.88002169e-14, 1.70090092e-12, 8.47758387e-13,\n",
       "        5.29440099e-13, 1.00000000e+00],\n",
       "       [1.05587223e-11, 4.65414111e-16, 2.46675049e-13, 2.17628188e-16,\n",
       "        5.64133980e-15, 1.00000000e+00],\n",
       "       [3.08287107e-09, 1.00000000e+00, 9.57417218e-12, 3.99251354e-10,\n",
       "        7.48919020e-14, 2.61206141e-16],\n",
       "       [1.71177472e-08, 1.44417700e-09, 1.69597385e-08, 1.82061732e-09,\n",
       "        1.13763745e-08, 1.00000000e+00],\n",
       "       [1.37984491e-09, 2.48823479e-11, 3.05662544e-11, 3.97537255e-13,\n",
       "        8.48125552e-13, 1.00000000e+00],\n",
       "       [9.99814212e-01, 1.85624594e-04, 2.81637995e-07, 6.59509114e-10,\n",
       "        6.67208466e-09, 6.85399515e-09],\n",
       "       [2.66336952e-10, 1.41962742e-09, 3.40921041e-11, 2.91369623e-10,\n",
       "        1.00000000e+00, 6.05002770e-10]], dtype=float32)"
      ]
     },
     "execution_count": 38,
     "metadata": {},
     "output_type": "execute_result"
    }
   ],
   "source": [
    "predictions"
   ]
  },
  {
   "cell_type": "code",
   "execution_count": 39,
   "id": "845dc935",
   "metadata": {},
   "outputs": [
    {
     "name": "stdout",
     "output_type": "stream",
     "text": [
      "predictions on a small set of test data--\n",
      "\n",
      "D   B   D   space   space   B   space   space   A   nothing   "
     ]
    }
   ],
   "source": [
    "print(\"predictions on a small set of test data--\")\n",
    "print(\"\")\n",
    "for ind, i in enumerate(predictions):\n",
    "    print(word_dict[np.argmax(i)], end='   ')"
   ]
  },
  {
   "cell_type": "code",
   "execution_count": 40,
   "id": "9bd90d2b",
   "metadata": {},
   "outputs": [
    {
     "name": "stderr",
     "output_type": "stream",
     "text": [
      "Clipping input data to the valid range for imshow with RGB data ([0..1] for floats or [0..255] for integers).\n",
      "Clipping input data to the valid range for imshow with RGB data ([0..1] for floats or [0..255] for integers).\n",
      "Clipping input data to the valid range for imshow with RGB data ([0..1] for floats or [0..255] for integers).\n",
      "Clipping input data to the valid range for imshow with RGB data ([0..1] for floats or [0..255] for integers).\n",
      "Clipping input data to the valid range for imshow with RGB data ([0..1] for floats or [0..255] for integers).\n",
      "Clipping input data to the valid range for imshow with RGB data ([0..1] for floats or [0..255] for integers).\n",
      "Clipping input data to the valid range for imshow with RGB data ([0..1] for floats or [0..255] for integers).\n",
      "Clipping input data to the valid range for imshow with RGB data ([0..1] for floats or [0..255] for integers).\n",
      "Clipping input data to the valid range for imshow with RGB data ([0..1] for floats or [0..255] for integers).\n",
      "Clipping input data to the valid range for imshow with RGB data ([0..1] for floats or [0..255] for integers).\n"
     ]
    },
    {
     "data": {
      "image/png": "[encoded data removed]",
      "text/plain": [
       "<Figure size 2160x1440 with 10 Axes>"
      ]
     },
     "metadata": {
      "needs_background": "light"
     },
     "output_type": "display_data"
    },
    {
     "name": "stdout",
     "output_type": "stream",
     "text": [
      "Actual labels\n",
      "D   B   D   space   space   B   space   space   A   nothing   "
     ]
    }
   ],
   "source": [
    "plotImages(imgs)\n",
    "print('Actual labels')\n",
    "for i in labels:\n",
    "    print(word_dict[np.argmax(i)], end='   ')"
   ]
  },
  {
   "cell_type": "code",
   "execution_count": 45,
   "id": "435d65c8",
   "metadata": {},
   "outputs": [],
   "source": [
    "import numpy as np\n",
    "import cv2\n",
    "import keras\n",
    "from keras.preprocessing.image import ImageDataGenerator\n",
    "import tensorflow as tf\n",
    "\n",
    "model = keras.models.load_model(r\"model_sign1.h5\")\n",
    "\n",
    "background = None\n",
    "accumulated_weight = 0.5\n",
    "\n",
    "ROI_top = 100\n",
    "ROI_bottom = 300\n",
    "ROI_right = 150\n",
    "ROI_left = 350\n",
    "\n",
    "def cal_accum_avg(frame, accumulated_weight):\n",
    "\n",
    "    global background\n",
    "    \n",
    "    if background is None:\n",
    "        background = frame.copy().astype(\"float\")\n",
    "        return None\n",
    "\n",
    "    cv2.accumulateWeighted(frame, background, accumulated_weight)\n",
    "\n",
    "def segment_hand(frame, threshold=25):\n",
    "    global background\n",
    "    \n",
    "    diff = cv2.absdiff(background.astype(\"uint8\"), frame)\n",
    "\n",
    "    \n",
    "    _ , thresholded = cv2.threshold(diff, threshold, 255, cv2.THRESH_BINARY)\n",
    "    \n",
    "    contours, hierarchy = cv2.findContours(thresholded.copy(), cv2.RETR_EXTERNAL, cv2.CHAIN_APPROX_SIMPLE)\n",
    "\n",
    "    if len(contours) == 0:\n",
    "        return None\n",
    "    else:\n",
    "        hand_segment_max_cont = max(contours, key=cv2.contourArea)\n",
    "        \n",
    "        return (thresholded, hand_segment_max_cont)\n",
    "\n",
    "cam = cv2.VideoCapture(0)\n",
    "num_frames =0\n",
    "while True:\n",
    "    ret, frame = cam.read()\n",
    "\n",
    "    frame = cv2.flip(frame, 1)\n",
    "\n",
    "    frame_copy = frame.copy()\n",
    "\n",
    "    roi = frame[ROI_top:ROI_bottom, ROI_right:ROI_left]\n",
    "\n",
    "    gray_frame = cv2.cvtColor(roi, cv2.COLOR_BGR2GRAY)\n",
    "    gray_frame = cv2.GaussianBlur(gray_frame, (9, 9), 0)\n",
    "\n",
    "\n",
    "    if num_frames < 70:\n",
    "        \n",
    "        cal_accum_avg(gray_frame, accumulated_weight)\n",
    "        \n",
    "        cv2.putText(frame_copy, \"FETCHING BACKGROUND...PLEASE WAIT\", (80, 400), cv2.FONT_HERSHEY_SIMPLEX, 0.9, (0,0,255), 2)\n",
    "    \n",
    "    else: \n",
    "        hand = segment_hand(gray_frame)\n",
    "        \n",
    "        if hand is not None:\n",
    "            \n",
    "            thresholded, hand_segment = hand\n",
    "\n",
    "            cv2.drawContours(frame_copy, [hand_segment + (ROI_right, ROI_top)], -1, (255, 0, 0),1)\n",
    "            \n",
    "            cv2.imshow(\"Thesholded Hand Image\", thresholded)\n",
    "            \n",
    "            thresholded = cv2.resize(thresholded, (64, 64))\n",
    "            thresholded = cv2.cvtColor(thresholded, cv2.COLOR_GRAY2RGB)\n",
    "            thresholded = np.reshape(thresholded, (1,thresholded.shape[0],thresholded.shape[1],3))\n",
    "            \n",
    "            pred = model.predict(thresholded)\n",
    "            cv2.putText(frame_copy, word_dict[np.argmax(pred)], (170, 45), cv2.FONT_HERSHEY_SIMPLEX, 1, (0,0,255), 2)\n",
    "            \n",
    "    cv2.rectangle(frame_copy, (ROI_left, ROI_top), (ROI_right, ROI_bottom), (255,128,0), 3)\n",
    "    num_frames += 1\n",
    "\n",
    "    cv2.putText(frame_copy, \"Communicator\", (10, 20), cv2.FONT_ITALIC, 0.5, (51,255,51), 1)\n",
    "    cv2.imshow(\"Sign Detection\", frame_copy)\n",
    "\n",
    "\n",
    "    k = cv2.waitKey(1) & 0xFF\n",
    "\n",
    "    if k == 27:\n",
    "        break\n",
    "\n",
    "cam.release()\n",
    "cv2.destroyAllWindows()\n"
   ]
  },
  {
   "cell_type": "code",
   "execution_count": 2,
   "id": "9a584c37",
   "metadata": {},
   "outputs": [],
   "source": [
    "from tensorflow.contrib import lite\n",
    "keras_file='model_sign1.h5'\n",
    "converter=lite.TocoConverter.from_keras_model_file(keras_file)\n",
    "tflite_model=converter.convert()\n",
    "open('model.tflite','wb').write(tflite_model)"
   ]
  }
 ],
 "metadata": {
  "kernelspec": {
   "display_name": "Python 3",
   "language": "python",
   "name": "python3"
  },
  "language_info": {
   "codemirror_mode": {
    "name": "ipython",
    "version": 3
   },
   "file_extension": ".py",
   "mimetype": "text/x-python",
   "name": "python",
   "nbconvert_exporter": "python",
   "pygments_lexer": "ipython3",
   "version": "3.8.8"
  }
 },
 "nbformat": 4,
 "nbformat_minor": 5
}
